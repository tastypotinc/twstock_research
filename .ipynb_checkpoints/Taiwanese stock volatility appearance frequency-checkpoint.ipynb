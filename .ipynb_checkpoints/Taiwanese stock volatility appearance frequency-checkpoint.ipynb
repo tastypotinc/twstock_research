{
 "cells": [
  {
   "cell_type": "markdown",
   "metadata": {},
   "source": [
    "# Taiwanese stock volatility and normal distribution"
   ]
  },
  {
   "cell_type": "code",
   "execution_count": 2,
   "metadata": {
    "collapsed": false
   },
   "outputs": [
    {
     "data": {
      "text/plain": [
       "'2016-09-27 23:07:46'"
      ]
     },
     "execution_count": 2,
     "metadata": {},
     "output_type": "execute_result"
    }
   ],
   "source": [
    "import datetime as dt\n",
    "dt.datetime.now().strftime(\"%Y-%m-%d %H:%M:%S\")"
   ]
  },
  {
   "cell_type": "code",
   "execution_count": 3,
   "metadata": {
    "collapsed": false
   },
   "outputs": [
    {
     "name": "stdout",
     "output_type": "stream",
     "text": [
      "/home/zhxie/Development/pytwstock\n"
     ]
    }
   ],
   "source": [
    "cd ~/Development/pytwstock/"
   ]
  },
  {
   "cell_type": "code",
   "execution_count": 4,
   "metadata": {
    "collapsed": true
   },
   "outputs": [],
   "source": [
    "%matplotlib inline\n",
    "from twstock.twstockdb.TWStockDatabase import TWSECDB\n",
    "twdb = TWSECDB(\"/d/StockDatabase/twsecdb.scdb\")"
   ]
  },
  {
   "cell_type": "code",
   "execution_count": 5,
   "metadata": {
    "collapsed": false
   },
   "outputs": [],
   "source": [
    "tsmc = twdb.query_taiwan_stock_ohlcv_time_series(2330)\n",
    "hh = twdb.query_taiwan_stock_ohlcv_time_series(2317)\n",
    "asus = twdb.query_taiwan_stock_ohlcv_time_series(2357)\n",
    "fubon = twdb.query_taiwan_stock_ohlcv_time_series(2881)\n",
    "twindex = twdb.query_taiwan_index_time_series()"
   ]
  },
  {
   "cell_type": "code",
   "execution_count": 6,
   "metadata": {
    "collapsed": false
   },
   "outputs": [],
   "source": [
    "import matplotlib.pyplot as plt\n",
    "import matplotlib.mlab as mlab\n",
    "import scipy.stats as stats\n",
    "import datetime as dt"
   ]
  },
  {
   "cell_type": "code",
   "execution_count": null,
   "metadata": {
    "collapsed": true
   },
   "outputs": [],
   "source": [
    "def scan_for_volatility_interval(prices, criterial, from_date=None, to_date=None):\n",
    "    if from_date is None:\n",
    "        from_date = dt.date(1970,1,1)\n",
    "    if to_date is None:\n",
    "        to_date = dt.datetime.now().date()\n",
    "    data = prices.ix[from_date:to_date]\n",
    "    intervals=[]\n",
    "    \n",
    "    "
   ]
  }
 ],
 "metadata": {
  "kernelspec": {
   "display_name": "Python 3",
   "language": "python",
   "name": "python3"
  },
  "language_info": {
   "codemirror_mode": {
    "name": "ipython",
    "version": 3
   },
   "file_extension": ".py",
   "mimetype": "text/x-python",
   "name": "python",
   "nbconvert_exporter": "python",
   "pygments_lexer": "ipython3",
   "version": "3.5.2"
  }
 },
 "nbformat": 4,
 "nbformat_minor": 0
}
